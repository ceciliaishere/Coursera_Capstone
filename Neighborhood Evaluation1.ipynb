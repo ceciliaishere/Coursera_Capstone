{
 "cells": [
  {
   "cell_type": "markdown",
   "metadata": {},
   "source": [
    "# Evaluate the Neighborhood at New York City"
   ]
  },
  {
   "cell_type": "markdown",
   "metadata": {},
   "source": [
    "## Introduction: Business Problem"
   ]
  },
  {
   "cell_type": "markdown",
   "metadata": {},
   "source": [
    "The capstone project aims at finding the best neighborhood to live in the city of New York if you like Chinese food.\n",
    "Chinese families first settled around flushing at New York at 80's when they first immigrant in US. \n",
    "Now more and more chinese are living in New York city, and a lot of new chinese resurants are openned at the meanwhile. \n",
    "The need to find and enjoy Chinese cuisine is on the rise. \n",
    "This report explores which neighborhoods and boroughs of New York City have the most as well as the best Chinese restaurants. \n",
    "Additionally, I will attempt to answer the questions  “Where should I stay If I want great Chinese food?”\n",
    "\n",
    "The target client for this project is the ones who is trying to explores which neighborhoods  of New York City have the  best Chinese restaurants. "
   ]
  },
  {
   "cell_type": "markdown",
   "metadata": {},
   "source": [
    "## Data"
   ]
  },
  {
   "cell_type": "markdown",
   "metadata": {},
   "source": [
    "In order to answer the above questions, following datas are needed:\n",
    "\n",
    "1. New York City data containing the neighborhoods and boroughs, latitudes, and longitudes will be obtained from the data source: https://cocl.us/new_york_dataset\n",
    "\n",
    "2. New York City data containing neighborhood boundaries will be obtained from the data source: https://data.cityofnewyork.us/City-Government/Borough-Boundaries/tqmj-j8zm\n",
    "\n",
    "3. All data related to locations and quality of Italian restaurants will be obtained via the FourSquare API utilized via the Request library in Python."
   ]
  },
  {
   "cell_type": "markdown",
   "metadata": {},
   "source": [
    "## Methodology"
   ]
  },
  {
   "cell_type": "markdown",
   "metadata": {},
   "source": [
    "\n",
    "First, New York City data will be collected and wrangled. from https://cocl.us/new_york_dataset and cleaned and processed into a dataframe.\n",
    "\n",
    "Second, combining with FourSquare database, the data will be filtered by Ratings, tips, for each neighborhood.\n",
    "\n",
    "Finally, the data be will be visually assessed using graphing from various Python libraries."
   ]
  },
  {
   "cell_type": "code",
   "execution_count": 7,
   "metadata": {},
   "outputs": [],
   "source": [
    "import json # library to handle JSON files"
   ]
  }
 ],
 "metadata": {
  "kernelspec": {
   "display_name": "Python 3",
   "language": "python",
   "name": "python3"
  },
  "language_info": {
   "codemirror_mode": {
    "name": "ipython",
    "version": 3
   },
   "file_extension": ".py",
   "mimetype": "text/x-python",
   "name": "python",
   "nbconvert_exporter": "python",
   "pygments_lexer": "ipython3",
   "version": "3.8.3"
  }
 },
 "nbformat": 4,
 "nbformat_minor": 4
}
